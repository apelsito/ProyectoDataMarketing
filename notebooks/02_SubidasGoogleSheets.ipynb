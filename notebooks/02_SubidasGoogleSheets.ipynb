{
 "cells": [
  {
   "cell_type": "markdown",
   "metadata": {},
   "source": [
    "# Pruebas Google Api\n",
    "- pip install gspread gspread-dataframe oauth2client google-api-python-client"
   ]
  },
  {
   "cell_type": "code",
   "execution_count": 10,
   "metadata": {},
   "outputs": [],
   "source": [
    "import gspread\n",
    "from google.oauth2.service_account import Credentials\n",
    "from gspread_dataframe import set_with_dataframe\n",
    "from oauth2client.service_account import ServiceAccountCredentials\n",
    "import pandas as pd\n",
    "from googleapiclient.discovery import build\n",
    "\n",
    "# Carga las credenciales\n",
    "scope = [\"https://spreadsheets.google.com/feeds\", \"https://www.googleapis.com/auth/spreadsheets\", \"https://www.googleapis.com/auth/drive\"]\n",
    "creds = ServiceAccountCredentials.from_json_keyfile_name('../datos/01_JSON/proyecto-hackiodatamarketing-50c293de9984.json', scope)\n",
    "client = gspread.authorize(creds)"
   ]
  },
  {
   "cell_type": "markdown",
   "metadata": {},
   "source": [
    "### Subir productos minimalism"
   ]
  },
  {
   "cell_type": "code",
   "execution_count": 5,
   "metadata": {},
   "outputs": [],
   "source": [
    "df = pd.read_csv(\"../datos/03_productos_minimalism.csv\",index_col=0)"
   ]
  },
  {
   "cell_type": "code",
   "execution_count": 8,
   "metadata": {},
   "outputs": [],
   "source": [
    "# Abre hoja cálculo\n",
    "spreadsheet = client.open_by_key(\"1OeKT6J7Pr4yu71gvDpF3P_Z47-OWNVeJayCUjRLFais\")\n",
    "new_sheet = spreadsheet.add_worksheet(title=\"productos minimalism\",rows=df.shape[0],cols=df.shape[1])\n",
    "sheet = spreadsheet.worksheet(\"productos minimalism\")\n",
    "# Exporta el DataFrame\n",
    "set_with_dataframe(new_sheet, df)"
   ]
  },
  {
   "cell_type": "markdown",
   "metadata": {},
   "source": [
    "### Subir productos thinking mu"
   ]
  },
  {
   "cell_type": "code",
   "execution_count": 12,
   "metadata": {},
   "outputs": [],
   "source": [
    "df = pd.read_csv(\"../datos/04_productos_thinkingMu.csv\",index_col=0)"
   ]
  },
  {
   "cell_type": "code",
   "execution_count": 13,
   "metadata": {},
   "outputs": [],
   "source": [
    "# Abre hoja cálculo\n",
    "spreadsheet = client.open_by_key(\"1OeKT6J7Pr4yu71gvDpF3P_Z47-OWNVeJayCUjRLFais\")\n",
    "new_sheet = spreadsheet.add_worksheet(title=\"productos thinking mu\",rows=df.shape[0],cols=df.shape[1])\n",
    "sheet = spreadsheet.worksheet(\"productos thinking mu\")\n",
    "# Exporta el DataFrame\n",
    "set_with_dataframe(new_sheet, df)"
   ]
  },
  {
   "cell_type": "markdown",
   "metadata": {},
   "source": [
    "### Subir productos sepiia"
   ]
  },
  {
   "cell_type": "code",
   "execution_count": 14,
   "metadata": {},
   "outputs": [],
   "source": [
    "df = pd.read_csv(\"../datos/07_datos_sepiia_limpios.csv\",index_col=0)"
   ]
  },
  {
   "cell_type": "code",
   "execution_count": 15,
   "metadata": {},
   "outputs": [],
   "source": [
    "# Abre hoja cálculo\n",
    "spreadsheet = client.open_by_key(\"1OeKT6J7Pr4yu71gvDpF3P_Z47-OWNVeJayCUjRLFais\")\n",
    "new_sheet = spreadsheet.add_worksheet(title=\"productos sepiia\",rows=df.shape[0],cols=df.shape[1])\n",
    "sheet = spreadsheet.worksheet(\"productos sepiia\")\n",
    "# Exporta el DataFrame\n",
    "set_with_dataframe(new_sheet, df)"
   ]
  },
  {
   "cell_type": "markdown",
   "metadata": {},
   "source": [
    "### Subir métricas minimalism"
   ]
  },
  {
   "cell_type": "code",
   "execution_count": 17,
   "metadata": {},
   "outputs": [],
   "source": [
    "df = pd.read_csv(\"../datos/06_datos_minimalism.csv\")"
   ]
  },
  {
   "cell_type": "code",
   "execution_count": 18,
   "metadata": {},
   "outputs": [],
   "source": [
    "# Abre hoja cálculo\n",
    "spreadsheet = client.open_by_key(\"1OeKT6J7Pr4yu71gvDpF3P_Z47-OWNVeJayCUjRLFais\")\n",
    "new_sheet = spreadsheet.add_worksheet(title=\"métricas minimalism\",rows=df.shape[0],cols=df.shape[1])\n",
    "sheet = spreadsheet.worksheet(\"métricas minimalism\")\n",
    "# Exporta el DataFrame\n",
    "set_with_dataframe(new_sheet, df)"
   ]
  },
  {
   "cell_type": "markdown",
   "metadata": {},
   "source": [
    "# Subir Trafico Pagado vs Organico\n"
   ]
  },
  {
   "cell_type": "code",
   "execution_count": 2,
   "metadata": {},
   "outputs": [],
   "source": [
    "df = pd.read_csv(\"../datos/08_trafico.csv\",index_col=0)"
   ]
  },
  {
   "cell_type": "code",
   "execution_count": 4,
   "metadata": {},
   "outputs": [],
   "source": [
    "# Abre hoja cálculo\n",
    "spreadsheet = client.open_by_key(\"1OeKT6J7Pr4yu71gvDpF3P_Z47-OWNVeJayCUjRLFais\")\n",
    "new_sheet = spreadsheet.add_worksheet(title=\"info trafico\",rows=df.shape[0],cols=df.shape[1])\n",
    "sheet = spreadsheet.worksheet(\"info trafico\")\n",
    "# Exporta el DataFrame\n",
    "set_with_dataframe(new_sheet, df)"
   ]
  },
  {
   "cell_type": "markdown",
   "metadata": {},
   "source": [
    "# Subir full Productos Minimalism"
   ]
  },
  {
   "cell_type": "code",
   "execution_count": 7,
   "metadata": {},
   "outputs": [],
   "source": [
    "df = pd.read_csv(\"../datos/09_fullproducts_minimalism.csv\",index_col=0)"
   ]
  },
  {
   "cell_type": "code",
   "execution_count": 8,
   "metadata": {},
   "outputs": [],
   "source": [
    "# Abre hoja cálculo\n",
    "spreadsheet = client.open_by_key(\"1OeKT6J7Pr4yu71gvDpF3P_Z47-OWNVeJayCUjRLFais\")\n",
    "new_sheet = spreadsheet.add_worksheet(title=\"full productos minimalism\",rows=df.shape[0],cols=df.shape[1])\n",
    "sheet = spreadsheet.worksheet(\"full productos minimalism\")\n",
    "# Exporta el DataFrame\n",
    "set_with_dataframe(new_sheet, df)"
   ]
  },
  {
   "cell_type": "code",
   "execution_count": 12,
   "metadata": {},
   "outputs": [
    {
     "name": "stdout",
     "output_type": "stream",
     "text": [
      "Documento creado exitosamente: https://docs.google.com/document/d/121lP4NBOBiMB6opjT5iDVahf_TUPAxDhJSoD-TZM2OA/edit\n"
     ]
    }
   ],
   "source": [
    "import json\n",
    "from google.oauth2.service_account import Credentials\n",
    "from googleapiclient.discovery import build\n",
    "\n",
    "# Cargar credenciales\n",
    "SCOPES = [\"https://www.googleapis.com/auth/documents\", \"https://www.googleapis.com/auth/drive\"]\n",
    "creds = Credentials.from_service_account_file('../datos/01_JSON/proyecto-hackiodatamarketing-50c293de9984.json', scopes=SCOPES)\n",
    "\n",
    "# Crear el servicio de Google Docs\n",
    "service = build('docs', 'v1', credentials=creds)\n",
    "\n",
    "# Crear un nuevo documento\n",
    "document_title = \"Herramientas Usadas en Python para el Proyecto\"\n",
    "document = service.documents().create(body={\"title\": document_title}).execute()\n",
    "document_id = document.get('documentId')\n",
    "\n",
    "# Contenido del documento\n",
    "contenido = \"\"\"\n",
    "### Herramientas Usadas en Python para el Proyecto 🚀\n",
    "\n",
    "En este proyecto, hemos empleado diversas herramientas y librerías de Python para facilitar el tratamiento de datos, scraping, visualización, y automatización de procesos.\n",
    "\n",
    "---\n",
    "\n",
    "### 🔧 Librerías Utilizadas:\n",
    "\n",
    "1. **gspread**\n",
    "   - **Descripción**: Permite interactuar con Google Sheets desde Python.\n",
    "   - **Documentación**: [gspread Documentation](https://docs.gspread.org/en/latest/)\n",
    "\n",
    "2. **gspread_dataframe**\n",
    "   - **Descripción**: Extensión de `gspread` para manejar DataFrames en Google Sheets.\n",
    "   - **Documentación**: [gspread DataFrame Documentation](https://docs.gspread.org/en/latest/api/gspread_dataframe.html)\n",
    "\n",
    "3. **oauth2client**\n",
    "   - **Descripción**: Maneja la autenticación de OAuth2 para Google APIs.\n",
    "   - **Documentación**: [oauth2client Documentation](https://oauth2client.readthedocs.io/en/latest/)\n",
    "\n",
    "4. **pandas**\n",
    "   - **Descripción**: Herramienta esencial para la manipulación y análisis de datos.\n",
    "   - **Documentación**: [pandas Documentation](https://pandas.pydata.org/docs/)\n",
    "\n",
    "5. **numpy**\n",
    "   - **Descripción**: Proporciona herramientas para cálculos numéricos y manipulación de arrays.\n",
    "   - **Documentación**: [NumPy Documentation](https://numpy.org/doc/)\n",
    "\n",
    "6. **datetime**\n",
    "   - **Descripción**: Manejo de fechas y tiempos en Python.\n",
    "   - **Documentación**: [datetime Documentation](https://docs.python.org/3/library/datetime.html)\n",
    "\n",
    "7. **matplotlib y seaborn**\n",
    "   - **Descripción**: Librerías para la visualización de datos.\n",
    "   - **Documentación**:\n",
    "     - [matplotlib Documentation](https://matplotlib.org/stable/contents.html)\n",
    "     - [seaborn Documentation](https://seaborn.pydata.org/)\n",
    "\n",
    "8. **selenium**\n",
    "   - **Descripción**: Automatización de navegadores para scraping web.\n",
    "   - **Documentación**: [Selenium Documentation](https://selenium-python.readthedocs.io/)\n",
    "\n",
    "9. **tqdm**\n",
    "   - **Descripción**: Añade barras de progreso en bucles.\n",
    "   - **Documentación**: [tqdm Documentation](https://tqdm.github.io/)\n",
    "\n",
    "10. **time**\n",
    "    - **Descripción**: Utilizado para gestionar pausas en la ejecución.\n",
    "    - **Documentación**: [time Documentation](https://docs.python.org/3/library/time.html)\n",
    "\n",
    "11. **sys**\n",
    "    - **Descripción**: Utilizado para modificar el `path` del sistema.\n",
    "    - **Documentación**: [sys Documentation](https://docs.python.org/3/library/sys.html)\n",
    "\n",
    "12. **soporte_scraping (módulo personalizado)**\n",
    "    - **Descripción**: Módulo propio del proyecto para funciones auxiliares de scraping.\n",
    "    - **Ubicación**: `src/soporte_scraping.py`\n",
    "\n",
    "---\n",
    "\n",
    "### 🚀 Cómo usar este proyecto:\n",
    "Para más detalles sobre el uso de cada herramienta, consulta la documentación enlazada. 💻🔗\n",
    "\"\"\"\n",
    "\n",
    "# Insertar texto en el documento\n",
    "requests = [\n",
    "    {\n",
    "        \"insertText\": {\n",
    "            \"location\": {\n",
    "                \"index\": 1\n",
    "            },\n",
    "            \"text\": contenido\n",
    "        }\n",
    "    }\n",
    "]\n",
    "\n",
    "# Ejecutar la solicitud para insertar el contenido\n",
    "service.documents().batchUpdate(documentId=document_id, body={\"requests\": requests}).execute()\n",
    "\n",
    "print(f\"Documento creado exitosamente: https://docs.google.com/document/d/{document_id}/edit\")\n"
   ]
  },
  {
   "cell_type": "code",
   "execution_count": 13,
   "metadata": {},
   "outputs": [
    {
     "name": "stdout",
     "output_type": "stream",
     "text": [
      "Documento compartido con mrappletastico@gmail.com. Accede aquí: https://docs.google.com/document/d/121lP4NBOBiMB6opjT5iDVahf_TUPAxDhJSoD-TZM2OA/edit\n"
     ]
    }
   ],
   "source": [
    "# Crear el servicio de Google Drive\n",
    "drive_service = build('drive', 'v3', credentials=creds)\n",
    "\n",
    "# Dirección de correo a la que deseas dar acceso\n",
    "correo = \"mrappletastico@gmail.com\"\n",
    "\n",
    "# Configurar permisos para el correo específico\n",
    "permission = {\n",
    "    \"type\": \"user\",\n",
    "    \"role\": \"writer\",  # Cambia a 'reader' si solo deseas acceso de lectura\n",
    "    \"emailAddress\": correo\n",
    "}\n",
    "\n",
    "# Asignar permisos al documento\n",
    "drive_service.permissions().create(fileId=document_id, body=permission, sendNotificationEmail=True).execute()\n",
    "\n",
    "print(f\"Documento compartido con {correo}. Accede aquí: https://docs.google.com/document/d/{document_id}/edit\")\n"
   ]
  },
  {
   "cell_type": "code",
   "execution_count": 14,
   "metadata": {},
   "outputs": [
    {
     "name": "stdout",
     "output_type": "stream",
     "text": [
      "Documento creado exitosamente: https://docs.google.com/document/d/1vfPj3wTYcLA-HCntiJJsegIqWTnf3NW0MjyHEQV1Y9E/edit\n",
      "Documento compartido con mrappletastico@gmail.com. Accede aquí: https://docs.google.com/document/d/1vfPj3wTYcLA-HCntiJJsegIqWTnf3NW0MjyHEQV1Y9E/edit\n"
     ]
    }
   ],
   "source": [
    "import json\n",
    "from google.oauth2.service_account import Credentials\n",
    "from googleapiclient.discovery import build\n",
    "\n",
    "# Cargar credenciales\n",
    "SCOPES = [\"https://www.googleapis.com/auth/documents\", \"https://www.googleapis.com/auth/drive\"]\n",
    "creds = Credentials.from_service_account_file('../datos/01_JSON/proyecto-hackiodatamarketing-50c293de9984.json', scopes=SCOPES)\n",
    "\n",
    "# Crear el servicio de Google Docs\n",
    "service = build('docs', 'v1', credentials=creds)\n",
    "\n",
    "# Crear un nuevo documento\n",
    "document_title = \"Herramientas Usadas en Python para el Proyecto\"\n",
    "document = service.documents().create(body={\"title\": document_title}).execute()\n",
    "document_id = document.get('documentId')\n",
    "\n",
    "# Función para añadir texto con formato\n",
    "def insert_text(service, document_id, text, bold=False, link=None):\n",
    "    requests = []\n",
    "    # Añadir texto con negrita\n",
    "    if bold:\n",
    "        requests.append({\n",
    "            \"insertText\": {\n",
    "                \"location\": {\"index\": 1},\n",
    "                \"text\": text + \"\\n\"\n",
    "            }\n",
    "        })\n",
    "        requests.append({\n",
    "            \"updateTextStyle\": {\n",
    "                \"range\": {\"startIndex\": 1, \"endIndex\": len(text) + 1},\n",
    "                \"textStyle\": {\"bold\": True},\n",
    "                \"fields\": \"bold\"\n",
    "            }\n",
    "        })\n",
    "    # Añadir texto con enlace\n",
    "    elif link:\n",
    "        requests.append({\n",
    "            \"insertText\": {\n",
    "                \"location\": {\"index\": 1},\n",
    "                \"text\": text + \"\\n\"\n",
    "            }\n",
    "        })\n",
    "        requests.append({\n",
    "            \"updateTextStyle\": {\n",
    "                \"range\": {\"startIndex\": 1, \"endIndex\": len(text) + 1},\n",
    "                \"textStyle\": {\"link\": {\"url\": link}},\n",
    "                \"fields\": \"link\"\n",
    "            }\n",
    "        })\n",
    "    # Añadir texto normal\n",
    "    else:\n",
    "        requests.append({\n",
    "            \"insertText\": {\n",
    "                \"location\": {\"index\": 1},\n",
    "                \"text\": text + \"\\n\"\n",
    "            }\n",
    "        })\n",
    "\n",
    "    # Ejecutar las solicitudes\n",
    "    service.documents().batchUpdate(documentId=document_id, body={\"requests\": requests}).execute()\n",
    "\n",
    "# Añadir contenido al documento con formato\n",
    "contenido = [\n",
    "    (\"🔧 Librerías Utilizadas:\", True, None),\n",
    "    (\"1. gspread\", True, None),\n",
    "    (\"- Descripción: Permite interactuar con Google Sheets desde Python.\", False, None),\n",
    "    (\"- Documentación: gspread Documentation\", False, \"https://docs.gspread.org/en/latest/\"),\n",
    "    (\"2. gspread_dataframe\", True, None),\n",
    "    (\"- Descripción: Extensión de `gspread` para manejar DataFrames en Google Sheets.\", False, None),\n",
    "    (\"- Documentación: gspread DataFrame Documentation\", False, \"https://docs.gspread.org/en/latest/api/gspread_dataframe.html\"),\n",
    "    (\"3. oauth2client\", True, None),\n",
    "    (\"- Descripción: Maneja la autenticación de OAuth2 para Google APIs.\", False, None),\n",
    "    (\"- Documentación: oauth2client Documentation\", False, \"https://oauth2client.readthedocs.io/en/latest/\"),\n",
    "    (\"4. pandas\", True, None),\n",
    "    (\"- Descripción: Herramienta esencial para la manipulación y análisis de datos.\", False, None),\n",
    "    (\"- Documentación: pandas Documentation\", False, \"https://pandas.pydata.org/docs/\"),\n",
    "    (\"5. numpy\", True, None),\n",
    "    (\"- Descripción: Proporciona herramientas para cálculos numéricos y manipulación de arrays.\", False, None),\n",
    "    (\"- Documentación: NumPy Documentation\", False, \"https://numpy.org/doc/\"),\n",
    "    (\"6. datetime\", True, None),\n",
    "    (\"- Descripción: Manejo de fechas y tiempos en Python.\", False, None),\n",
    "    (\"- Documentación: datetime Documentation\", False, \"https://docs.python.org/3/library/datetime.html\"),\n",
    "    (\"7. matplotlib y seaborn\", True, None),\n",
    "    (\"- Descripción: Librerías para la visualización de datos.\", False, None),\n",
    "    (\"- Documentación: matplotlib Documentation\", False, \"https://matplotlib.org/stable/contents.html\"),\n",
    "    (\"- Documentación: seaborn Documentation\", False, \"https://seaborn.pydata.org/\"),\n",
    "    (\"8. selenium\", True, None),\n",
    "    (\"- Descripción: Automatización de navegadores para scraping web.\", False, None),\n",
    "    (\"- Documentación: Selenium Documentation\", False, \"https://selenium-python.readthedocs.io/\"),\n",
    "    (\"9. tqdm\", True, None),\n",
    "    (\"- Descripción: Añade barras de progreso en bucles.\", False, None),\n",
    "    (\"- Documentación: tqdm Documentation\", False, \"https://tqdm.github.io/\"),\n",
    "    (\"10. time\", True, None),\n",
    "    (\"- Descripción: Utilizado para gestionar pausas en la ejecución.\", False, None),\n",
    "    (\"- Documentación: time Documentation\", False, \"https://docs.python.org/3/library/time.html\"),\n",
    "    (\"11. sys\", True, None),\n",
    "    (\"- Descripción: Utilizado para modificar el `path` del sistema.\", False, None),\n",
    "    (\"- Documentación: sys Documentation\", False, \"https://docs.python.org/3/library/sys.html\"),\n",
    "    (\"12. soporte_scraping (módulo personalizado)\", True, None),\n",
    "    (\"- Descripción: Módulo propio del proyecto para funciones auxiliares de scraping.\", False, None),\n",
    "    (\"- Ubicación: `src/soporte_scraping.py`\", False, None)\n",
    "]\n",
    "\n",
    "# Insertar cada línea en el documento\n",
    "for text, bold, link in reversed(contenido):  # Reversed para insertar en orden correcto\n",
    "    insert_text(service, document_id, text, bold, link)\n",
    "\n",
    "print(f\"Documento creado exitosamente: https://docs.google.com/document/d/{document_id}/edit\")\n",
    "\n",
    "# Crear el servicio de Google Drive\n",
    "drive_service = build('drive', 'v3', credentials=creds)\n",
    "\n",
    "# Dirección de correo a la que deseas dar acceso\n",
    "correo = \"mrappletastico@gmail.com\"\n",
    "\n",
    "# Configurar permisos para el correo específico\n",
    "permission = {\n",
    "    \"type\": \"user\",\n",
    "    \"role\": \"writer\",  # Cambia a 'reader' si solo deseas acceso de lectura\n",
    "    \"emailAddress\": correo\n",
    "}\n",
    "\n",
    "# Asignar permisos al documento\n",
    "drive_service.permissions().create(fileId=document_id, body=permission, sendNotificationEmail=True).execute()\n",
    "\n",
    "print(f\"Documento compartido con {correo}. Accede aquí: https://docs.google.com/document/d/{document_id}/edit\")"
   ]
  }
 ],
 "metadata": {
  "kernelspec": {
   "display_name": "Python 3",
   "language": "python",
   "name": "python3"
  },
  "language_info": {
   "codemirror_mode": {
    "name": "ipython",
    "version": 3
   },
   "file_extension": ".py",
   "mimetype": "text/x-python",
   "name": "python",
   "nbconvert_exporter": "python",
   "pygments_lexer": "ipython3",
   "version": "3.11.9"
  }
 },
 "nbformat": 4,
 "nbformat_minor": 2
}
