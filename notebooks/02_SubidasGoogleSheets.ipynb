{
 "cells": [
  {
   "cell_type": "markdown",
   "metadata": {},
   "source": [
    "# Pruebas Google Api\n",
    "- pip install gspread gspread-dataframe oauth2client"
   ]
  },
  {
   "cell_type": "code",
   "execution_count": 6,
   "metadata": {},
   "outputs": [],
   "source": [
    "import gspread\n",
    "from gspread_dataframe import set_with_dataframe\n",
    "from oauth2client.service_account import ServiceAccountCredentials\n",
    "import pandas as pd\n",
    "\n",
    "# Carga las credenciales\n",
    "scope = [\"https://spreadsheets.google.com/feeds\", \"https://www.googleapis.com/auth/spreadsheets\", \"https://www.googleapis.com/auth/drive\"]\n",
    "creds = ServiceAccountCredentials.from_json_keyfile_name('../datos/01_JSON/proyecto-hackiodatamarketing-50c293de9984.json', scope)\n",
    "client = gspread.authorize(creds)"
   ]
  },
  {
   "cell_type": "markdown",
   "metadata": {},
   "source": [
    "### Subir productos minimalism"
   ]
  },
  {
   "cell_type": "code",
   "execution_count": 5,
   "metadata": {},
   "outputs": [],
   "source": [
    "df = pd.read_csv(\"../datos/03_productos_minimalism.csv\",index_col=0)"
   ]
  },
  {
   "cell_type": "code",
   "execution_count": 8,
   "metadata": {},
   "outputs": [],
   "source": [
    "# Abre hoja cálculo\n",
    "spreadsheet = client.open_by_key(\"1OeKT6J7Pr4yu71gvDpF3P_Z47-OWNVeJayCUjRLFais\")\n",
    "new_sheet = spreadsheet.add_worksheet(title=\"productos minimalism\",rows=df.shape[0],cols=df.shape[1])\n",
    "sheet = spreadsheet.worksheet(\"productos minimalism\")\n",
    "# Exporta el DataFrame\n",
    "set_with_dataframe(new_sheet, df)"
   ]
  },
  {
   "cell_type": "markdown",
   "metadata": {},
   "source": [
    "### Subir productos thinking mu"
   ]
  },
  {
   "cell_type": "code",
   "execution_count": 12,
   "metadata": {},
   "outputs": [],
   "source": [
    "df = pd.read_csv(\"../datos/04_productos_thinkingMu.csv\",index_col=0)"
   ]
  },
  {
   "cell_type": "code",
   "execution_count": 13,
   "metadata": {},
   "outputs": [],
   "source": [
    "# Abre hoja cálculo\n",
    "spreadsheet = client.open_by_key(\"1OeKT6J7Pr4yu71gvDpF3P_Z47-OWNVeJayCUjRLFais\")\n",
    "new_sheet = spreadsheet.add_worksheet(title=\"productos thinking mu\",rows=df.shape[0],cols=df.shape[1])\n",
    "sheet = spreadsheet.worksheet(\"productos thinking mu\")\n",
    "# Exporta el DataFrame\n",
    "set_with_dataframe(new_sheet, df)"
   ]
  },
  {
   "cell_type": "markdown",
   "metadata": {},
   "source": [
    "### Subir productos sepiia"
   ]
  },
  {
   "cell_type": "code",
   "execution_count": 14,
   "metadata": {},
   "outputs": [],
   "source": [
    "df = pd.read_csv(\"../datos/07_datos_sepiia_limpios.csv\",index_col=0)"
   ]
  },
  {
   "cell_type": "code",
   "execution_count": 15,
   "metadata": {},
   "outputs": [],
   "source": [
    "# Abre hoja cálculo\n",
    "spreadsheet = client.open_by_key(\"1OeKT6J7Pr4yu71gvDpF3P_Z47-OWNVeJayCUjRLFais\")\n",
    "new_sheet = spreadsheet.add_worksheet(title=\"productos sepiia\",rows=df.shape[0],cols=df.shape[1])\n",
    "sheet = spreadsheet.worksheet(\"productos sepiia\")\n",
    "# Exporta el DataFrame\n",
    "set_with_dataframe(new_sheet, df)"
   ]
  },
  {
   "cell_type": "markdown",
   "metadata": {},
   "source": [
    "### Subir métricas minimalism"
   ]
  },
  {
   "cell_type": "code",
   "execution_count": 17,
   "metadata": {},
   "outputs": [],
   "source": [
    "df = pd.read_csv(\"../datos/06_datos_minimalism.csv\")"
   ]
  },
  {
   "cell_type": "code",
   "execution_count": 18,
   "metadata": {},
   "outputs": [],
   "source": [
    "# Abre hoja cálculo\n",
    "spreadsheet = client.open_by_key(\"1OeKT6J7Pr4yu71gvDpF3P_Z47-OWNVeJayCUjRLFais\")\n",
    "new_sheet = spreadsheet.add_worksheet(title=\"métricas minimalism\",rows=df.shape[0],cols=df.shape[1])\n",
    "sheet = spreadsheet.worksheet(\"métricas minimalism\")\n",
    "# Exporta el DataFrame\n",
    "set_with_dataframe(new_sheet, df)"
   ]
  },
  {
   "cell_type": "markdown",
   "metadata": {},
   "source": [
    "# Subir Trafico Pagado vs Organico\n"
   ]
  },
  {
   "cell_type": "code",
   "execution_count": 2,
   "metadata": {},
   "outputs": [],
   "source": [
    "df = pd.read_csv(\"../datos/08_trafico.csv\",index_col=0)"
   ]
  },
  {
   "cell_type": "code",
   "execution_count": 4,
   "metadata": {},
   "outputs": [],
   "source": [
    "# Abre hoja cálculo\n",
    "spreadsheet = client.open_by_key(\"1OeKT6J7Pr4yu71gvDpF3P_Z47-OWNVeJayCUjRLFais\")\n",
    "new_sheet = spreadsheet.add_worksheet(title=\"info trafico\",rows=df.shape[0],cols=df.shape[1])\n",
    "sheet = spreadsheet.worksheet(\"info trafico\")\n",
    "# Exporta el DataFrame\n",
    "set_with_dataframe(new_sheet, df)"
   ]
  },
  {
   "cell_type": "markdown",
   "metadata": {},
   "source": [
    "# Subir full Productos Minimalism"
   ]
  },
  {
   "cell_type": "code",
   "execution_count": 7,
   "metadata": {},
   "outputs": [],
   "source": [
    "df = pd.read_csv(\"../datos/09_fullproducts_minimalism.csv\",index_col=0)"
   ]
  },
  {
   "cell_type": "code",
   "execution_count": 8,
   "metadata": {},
   "outputs": [],
   "source": [
    "# Abre hoja cálculo\n",
    "spreadsheet = client.open_by_key(\"1OeKT6J7Pr4yu71gvDpF3P_Z47-OWNVeJayCUjRLFais\")\n",
    "new_sheet = spreadsheet.add_worksheet(title=\"full productos minimalism\",rows=df.shape[0],cols=df.shape[1])\n",
    "sheet = spreadsheet.worksheet(\"full productos minimalism\")\n",
    "# Exporta el DataFrame\n",
    "set_with_dataframe(new_sheet, df)"
   ]
  }
 ],
 "metadata": {
  "kernelspec": {
   "display_name": "Python 3",
   "language": "python",
   "name": "python3"
  },
  "language_info": {
   "codemirror_mode": {
    "name": "ipython",
    "version": 3
   },
   "file_extension": ".py",
   "mimetype": "text/x-python",
   "name": "python",
   "nbconvert_exporter": "python",
   "pygments_lexer": "ipython3",
   "version": "3.11.9"
  }
 },
 "nbformat": 4,
 "nbformat_minor": 2
}
