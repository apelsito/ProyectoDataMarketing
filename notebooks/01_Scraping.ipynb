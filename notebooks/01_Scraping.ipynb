{
 "cells": [
  {
   "cell_type": "code",
   "execution_count": null,
   "metadata": {},
   "outputs": [],
   "source": [
    "# Importación de librerías necesarias para el proyecto\n",
    "\n",
    "# Automatización de navegadores (Selenium)\n",
    "# -----------------------------------------------------------------------\n",
    "from selenium import webdriver                      # Control automático del navegador para realizar scraping web\n",
    "from selenium.webdriver.chrome.service import Service  # Manejo del servicio de ChromeDriver\n",
    "from selenium.webdriver.common.by import By         # Selección de elementos en el DOM\n",
    "from selenium.webdriver.chrome.options import Options  # Configuración de opciones del navegador (headless mode, etc.)\n",
    "import time                                         # Gestión de pausas y temporización\n",
    "from selenium.webdriver.support.ui import WebDriverWait\n",
    "from selenium.webdriver.support import expected_conditions as EC\n",
    "\n",
    "# Tratamiento y manipulación de datos\n",
    "# -----------------------------------------------------------------------\n",
    "import pandas as pd                                 # Manipulación y análisis de datos en estructuras DataFrame\n",
    "import numpy as np                                  # Cálculos numéricos y manejo de arrays\n",
    "import datetime                                     # Manipulación de fechas y tiempos\n",
    "\n",
    "# Visualización de progreso\n",
    "# -----------------------------------------------------------------------\n",
    "from tqdm import tqdm                               # Creación de barras de progreso durante bucles\n",
    "\n",
    "# Manejo de tiempo y solicitudes con espera\n",
    "# -----------------------------------------------------------------------\n",
    "from time import sleep                              # Pausas en la ejecución del código\n",
    "\n",
    "import sys\n",
    "sys.path.append(\"../\")\n",
    "from src.soporte_scraping import (\n",
    "    df_productos\n",
    ")"
   ]
  },
  {
   "cell_type": "markdown",
   "metadata": {},
   "source": [
    "# Webs a Scrapear\n",
    "- https://minimalismbrand.com/collections/sweater-men\n",
    "- \"https://minimalismbrand.com/collections/sudaderas\""
   ]
  },
  {
   "cell_type": "code",
   "execution_count": null,
   "metadata": {},
   "outputs": [],
   "source": [
    "url_scrap = [\"https://minimalismbrand.com/collections/sudaderas\",\"https://minimalismbrand.com/collections/sweater-men\"]\n",
    "df = df_productos(url_scrap)"
   ]
  },
  {
   "cell_type": "code",
   "execution_count": null,
   "metadata": {},
   "outputs": [],
   "source": [
    "df.head()"
   ]
  },
  {
   "cell_type": "code",
   "execution_count": null,
   "metadata": {},
   "outputs": [],
   "source": [
    "df.to_csv(\"../datos/01_minimalism_productos_sin_info.csv\")"
   ]
  },
  {
   "cell_type": "markdown",
   "metadata": {},
   "source": [
    "### Unir lo de Nelson"
   ]
  },
  {
   "cell_type": "code",
   "execution_count": null,
   "metadata": {},
   "outputs": [],
   "source": [
    "df = pd.read_csv(\"../datos/01_minimalism_productos_sin_info.csv\",index_col=0)"
   ]
  },
  {
   "cell_type": "code",
   "execution_count": null,
   "metadata": {},
   "outputs": [],
   "source": [
    "df_info = pd.read_csv(\"../datos/02_info_prendas.csv\",index_col=0)\n",
    "df_info.sample()"
   ]
  },
  {
   "cell_type": "code",
   "execution_count": null,
   "metadata": {},
   "outputs": [],
   "source": [
    "df_info.rename(columns={'nombre': 'producto'}, inplace=True)\n",
    "columns_to_add = ['precio', 'descripción', 'Fabricación (materia prima + confección + mano de obra)',\n",
    "                  'Operaciones (logística + transporte)', 'Sueldos equipo + marketing + comunicación',\n",
    "                  'Margen antes de impuestos']\n",
    "\n",
    "df = pd.merge(df, df_info[['producto'] + columns_to_add], on='producto', how='left')\n"
   ]
  },
  {
   "cell_type": "code",
   "execution_count": null,
   "metadata": {},
   "outputs": [],
   "source": [
    "df.sample()"
   ]
  },
  {
   "cell_type": "markdown",
   "metadata": {},
   "source": [
    "### Limpiar tabla"
   ]
  },
  {
   "cell_type": "code",
   "execution_count": null,
   "metadata": {},
   "outputs": [],
   "source": [
    "df = df.drop(columns=\"descripción\")\n",
    "df.sample()"
   ]
  },
  {
   "cell_type": "markdown",
   "metadata": {},
   "source": [
    "Renombramos columnas"
   ]
  },
  {
   "cell_type": "code",
   "execution_count": null,
   "metadata": {},
   "outputs": [],
   "source": [
    "df = df.rename(columns={\"precio\":\"precio (€)\",\n",
    "                        \"Fabricación (materia prima + confección + mano de obra)\":\"coste fabricacion (%)\",\n",
    "                        \"Operaciones (logística + transporte)\":\"coste logistica y transporte (%)\",\n",
    "                        \"Sueldos equipo + marketing + comunicación\":\"coste sueldos equipo + marketing + comunicacion (%)\",\n",
    "                        \"Margen antes de impuestos\":\"margen antes de impuestos (%)\"})"
   ]
  },
  {
   "cell_type": "code",
   "execution_count": null,
   "metadata": {},
   "outputs": [],
   "source": [
    "df.sample()"
   ]
  },
  {
   "cell_type": "markdown",
   "metadata": {},
   "source": [
    "Eliminamos € de precio y % de las columnas"
   ]
  },
  {
   "cell_type": "code",
   "execution_count": null,
   "metadata": {},
   "outputs": [],
   "source": [
    "df[\"precio (€)\"] = df[\"precio (€)\"].str.strip(\"€\")\n",
    "df.sample()"
   ]
  },
  {
   "cell_type": "code",
   "execution_count": null,
   "metadata": {},
   "outputs": [],
   "source": [
    "df[\"coste fabricacion (%)\"] = df[\"coste fabricacion (%)\"].str.strip(\"%\")\n",
    "df[\"coste logistica y transporte (%)\"] = df[\"coste logistica y transporte (%)\"].str.strip(\"%\")\n",
    "df[\"coste sueldos equipo + marketing + comunicacion (%)\"] = df[\"coste sueldos equipo + marketing + comunicacion (%)\"].str.strip(\"%\")\n",
    "df[\"margen antes de impuestos (%)\"] = df[\"margen antes de impuestos (%)\"].str.strip(\"%\")\n",
    "df.sample()\n"
   ]
  },
  {
   "cell_type": "markdown",
   "metadata": {},
   "source": [
    "Ajustar formatos a float e int"
   ]
  },
  {
   "cell_type": "code",
   "execution_count": null,
   "metadata": {},
   "outputs": [],
   "source": [
    "df.info()"
   ]
  },
  {
   "cell_type": "code",
   "execution_count": null,
   "metadata": {},
   "outputs": [],
   "source": [
    "df[\"precio (€)\"] = df[\"precio (€)\"].astype(float)\n",
    "df[\"coste fabricacion (%)\"] = df[\"coste fabricacion (%)\"].astype(float)\n",
    "df[\"coste logistica y transporte (%)\"] = df[\"coste logistica y transporte (%)\"].astype(float)\n",
    "df[\"coste sueldos equipo + marketing + comunicacion (%)\"] = df[\"coste sueldos equipo + marketing + comunicacion (%)\"].astype(float)\n",
    "df[\"margen antes de impuestos (%)\"] = df[\"margen antes de impuestos (%)\"].astype(float)"
   ]
  },
  {
   "cell_type": "code",
   "execution_count": null,
   "metadata": {},
   "outputs": [],
   "source": [
    "df.sample()"
   ]
  },
  {
   "cell_type": "code",
   "execution_count": null,
   "metadata": {},
   "outputs": [],
   "source": [
    "df.info()"
   ]
  },
  {
   "cell_type": "code",
   "execution_count": null,
   "metadata": {},
   "outputs": [],
   "source": [
    "df.to_csv(\"../datos/03_productos_minimalism.csv\")"
   ]
  },
  {
   "cell_type": "markdown",
   "metadata": {},
   "source": [
    "# Competencia\n",
    "- https://thinkingmu.com/"
   ]
  },
  {
   "cell_type": "code",
   "execution_count": 123,
   "metadata": {},
   "outputs": [],
   "source": [
    "driver = webdriver.Chrome()\n",
    "driver.get(\"https://thinkingmu.com/\")\n",
    "driver.maximize_window()\n",
    "sleep(1)\n",
    "driver.find_element(\"xpath\",\"/html/body/div[1]/div/div[1]/div/div[2]/button[3]\").click()\n",
    "sleep(1)\n",
    "driver.execute_script(\"window.scrollBy(0, 1500);\")\n",
    "driver.find_element(\"xpath\",\"/html/body/main/div[2]/div/div[2]/div[2]/a[2]\").click()\n",
    "sleep(3)\n",
    "driver.find_element(\"xpath\",\"/html/body/main/div/div/div[2]/div/ul/li[7]/label/span\").click()\n",
    "sleep(1)\n",
    "productos = driver.find_elements(\"xpath\",\"/html/body/main/div/div/div[3]/div/ul/li\")\n",
    "lis_producto = []\n",
    "lis_precio = []\n",
    "lis_material = []\n",
    "lis_envio = []\n",
    "for producto in productos:\n",
    "    try:\n",
    "        producto.click()\n",
    "        sleep(1)\n",
    "        try:\n",
    "            producto = driver.find_element(\"xpath\",\"/html/body/main/section[1]/section/div/div[2]/h1\").text\n",
    "            lis_producto.append(producto)\n",
    "            sleep(0.5)\n",
    "            precio = driver.find_element(\"xpath\",\"/html/body/main/section[1]/section/div/div[2]/div[1]/div/div/div[1]/span\").text\n",
    "            lis_precio.append(precio)\n",
    "            sleep(1)\n",
    "            try:\n",
    "                driver.find_element(\"css selector\",\"#Product-meta-info-template--22527716622662__main > div.meta-toggles.meta-toggles-desktop > div:nth-child(1)\")\n",
    "            except:\n",
    "                try:\n",
    "                    driver.find_element(\"css selector\",\"#Product-meta-info-template--22527716655430__main > div.meta-toggles.meta-toggles-desktop > div.meta-toggle.expanded > div.toggle.noselect\").click()\n",
    "                except:\n",
    "                    driver.find_element(\"css selector\",\"#Product-meta-info-template--22527716655430__main > div.meta-toggles.meta-toggles-desktop > div:nth-child(2)\").click()\n",
    "            \n",
    "            try:\n",
    "                element = driver.find_element(\"css selector\",\"#Product-meta-info-template--22527716655430__f4048341-92c6-495b-833b-9f1f1b524e3f\")\n",
    "            except:\n",
    "                element = driver.find_element(\"css selector\",\"#Product-meta-info-template--22527716622662__f4048341-92c6-495b-833b-9f1f1b524e3f > div.blue-cardmodule > div > div\")\n",
    "\n",
    "            driver.execute_script(\"arguments[0].scrollIntoView();\", element)\n",
    "            sleep(1)\n",
    "            driver.execute_script(\"window.scrollBy(0, -300);\")\n",
    "            sleep(1)\n",
    "            try:\n",
    "                driver.find_element(\"xpath\",\"/html/body/main/section[1]/section/div/div[2]/div[8]/div[1]/div[3]/div[1]\").click()\n",
    "            except:\n",
    "                driver.find_element(\"css selector\",\"#Product-meta-info-template--22527716655430__main > div.meta-toggles.meta-toggles-desktop > div:nth-child(3) > div.toggle.noselect\").click()\n",
    "            try:\n",
    "                envio = driver.find_element(\"xpath\", \"/html/body/main/section[1]/section/div/div[2]/div[8]/div[1]/div[3]/div[2]/p[2]\").text\n",
    "                envio = envio.split(\"\\n\")[1].split(\": \")[1]\n",
    "                lis_envio.append(envio)\n",
    "            except:\n",
    "                envio = driver.find_element(\"css selector\", \"#Product-meta-info-template--22527716655430__main > div.meta-toggles.meta-toggles-desktop > div.meta-toggle.expanded > div.content > p:nth-child(2)\").text\n",
    "                envio = envio.split(\"\\n\")[1].split(\": \")[1]\n",
    "                lis_envio.append(envio)\n",
    "            driver.back()\n",
    "        except:\n",
    "            mice = driver.find_element(\"xpath\",\"/html/body/div[15]/div/div[2]\")\n",
    "            mice.find_element(\"xpath\",\"/html/body/div[15]/div/div[2]/div/div/div/div/div/button\").click()\n",
    "    except:\n",
    "        mice = driver.find_element(\"xpath\",\"/html/body/div[15]/div/div[2]\")\n",
    "        mice.find_element(\"xpath\",\"/html/body/div[15]/div/div[2]/div/div/div/div/div/button\").click()\n",
    "\n",
    "lis_material.append(\"Exterior: 100% Poliéster Reciclado Forro: 100% Poliéster Reciclado\")\n",
    "lis_material.append(\"100% Algodón Orgánico\")\n",
    "lis_material.append(\"100% Algodón Orgánico\")\n",
    "lis_material.append(\"55% Cáñamo + 45% Algodón Orgánico\")\n",
    "lis_material.append(\"55% Cáñamo + 45% Algodón Orgánico\")\n",
    "lis_material.append(f\"99% Algodón Orgánico + 1% Elastano\")"
   ]
  },
  {
   "cell_type": "code",
   "execution_count": 124,
   "metadata": {},
   "outputs": [
    {
     "data": {
      "text/plain": [
       "['Chaqueta navy Jackson',\n",
       " 'Sobrecamisa gris pana Theo',\n",
       " 'Sobrecamisa beige pana Theo',\n",
       " 'Chaqueta azul Carmy',\n",
       " 'Chaqueta marrón Carmy',\n",
       " 'Chaqueta dark clean denim Odonata']"
      ]
     },
     "execution_count": 124,
     "metadata": {},
     "output_type": "execute_result"
    }
   ],
   "source": [
    "lis_producto"
   ]
  },
  {
   "cell_type": "code",
   "execution_count": 127,
   "metadata": {},
   "outputs": [
    {
     "data": {
      "text/plain": [
       "['Exterior: 100% Poliéster Reciclado Forro: 100% Poliéster Reciclado',\n",
       " '100% Algodón Orgánico',\n",
       " '100% Algodón Orgánico',\n",
       " '55% Cáñamo + 45% Algodón Orgánico',\n",
       " '55% Cáñamo + 45% Algodón Orgánico',\n",
       " '99% Algodón Orgánico + 1% Elastano']"
      ]
     },
     "execution_count": 127,
     "metadata": {},
     "output_type": "execute_result"
    }
   ],
   "source": [
    "lis_material"
   ]
  },
  {
   "cell_type": "code",
   "execution_count": 126,
   "metadata": {},
   "outputs": [
    {
     "data": {
      "text/plain": [
       "['159,90 €', '119,90 €', '119,90 €', '149,90 €', '149,90 €', '129,90 €']"
      ]
     },
     "execution_count": 126,
     "metadata": {},
     "output_type": "execute_result"
    }
   ],
   "source": [
    "lis_precio"
   ]
  },
  {
   "cell_type": "code",
   "execution_count": 131,
   "metadata": {},
   "outputs": [],
   "source": [
    "df = pd.DataFrame({\n",
    "    \"producto\":lis_producto,\n",
    "    \"precio\":lis_precio,\n",
    "    \"material\":lis_material,\n",
    "    \"envio\":lis_envio,\n",
    "    \"tallas\": [[\"S\",\"M\",\"L\",\"XL\",\"XXL\"]]*6\n",
    "})"
   ]
  },
  {
   "cell_type": "code",
   "execution_count": 132,
   "metadata": {},
   "outputs": [
    {
     "data": {
      "text/html": [
       "<div>\n",
       "<style scoped>\n",
       "    .dataframe tbody tr th:only-of-type {\n",
       "        vertical-align: middle;\n",
       "    }\n",
       "\n",
       "    .dataframe tbody tr th {\n",
       "        vertical-align: top;\n",
       "    }\n",
       "\n",
       "    .dataframe thead th {\n",
       "        text-align: right;\n",
       "    }\n",
       "</style>\n",
       "<table border=\"1\" class=\"dataframe\">\n",
       "  <thead>\n",
       "    <tr style=\"text-align: right;\">\n",
       "      <th></th>\n",
       "      <th>producto</th>\n",
       "      <th>precio</th>\n",
       "      <th>material</th>\n",
       "      <th>envio</th>\n",
       "      <th>tallas</th>\n",
       "    </tr>\n",
       "  </thead>\n",
       "  <tbody>\n",
       "    <tr>\n",
       "      <th>0</th>\n",
       "      <td>Chaqueta navy Jackson</td>\n",
       "      <td>159,90 €</td>\n",
       "      <td>Exterior: 100% Poliéster Reciclado Forro: 100%...</td>\n",
       "      <td>Entrega en 1-2 días hábiles. Envío gratuito a ...</td>\n",
       "      <td>[S, M, L, XL, XXL]</td>\n",
       "    </tr>\n",
       "    <tr>\n",
       "      <th>1</th>\n",
       "      <td>Sobrecamisa gris pana Theo</td>\n",
       "      <td>119,90 €</td>\n",
       "      <td>100% Algodón Orgánico</td>\n",
       "      <td>Entrega en 1-2 días hábiles. Envío gratuito a ...</td>\n",
       "      <td>[S, M, L, XL, XXL]</td>\n",
       "    </tr>\n",
       "    <tr>\n",
       "      <th>2</th>\n",
       "      <td>Sobrecamisa beige pana Theo</td>\n",
       "      <td>119,90 €</td>\n",
       "      <td>100% Algodón Orgánico</td>\n",
       "      <td>Entrega en 1-2 días hábiles. Envío gratuito a ...</td>\n",
       "      <td>[S, M, L, XL, XXL]</td>\n",
       "    </tr>\n",
       "    <tr>\n",
       "      <th>3</th>\n",
       "      <td>Chaqueta azul Carmy</td>\n",
       "      <td>149,90 €</td>\n",
       "      <td>55% Cáñamo + 45% Algodón Orgánico</td>\n",
       "      <td>Entrega en 1-2 días hábiles. Envío gratuito a ...</td>\n",
       "      <td>[S, M, L, XL, XXL]</td>\n",
       "    </tr>\n",
       "    <tr>\n",
       "      <th>4</th>\n",
       "      <td>Chaqueta marrón Carmy</td>\n",
       "      <td>149,90 €</td>\n",
       "      <td>55% Cáñamo + 45% Algodón Orgánico</td>\n",
       "      <td>Entrega en 1-2 días hábiles. Envío gratuito a ...</td>\n",
       "      <td>[S, M, L, XL, XXL]</td>\n",
       "    </tr>\n",
       "    <tr>\n",
       "      <th>5</th>\n",
       "      <td>Chaqueta dark clean denim Odonata</td>\n",
       "      <td>129,90 €</td>\n",
       "      <td>99% Algodón Orgánico + 1% Elastano</td>\n",
       "      <td>Entrega en 1-2 días hábiles. Envío gratuito a ...</td>\n",
       "      <td>[S, M, L, XL, XXL]</td>\n",
       "    </tr>\n",
       "  </tbody>\n",
       "</table>\n",
       "</div>"
      ],
      "text/plain": [
       "                            producto    precio  \\\n",
       "0              Chaqueta navy Jackson  159,90 €   \n",
       "1         Sobrecamisa gris pana Theo  119,90 €   \n",
       "2        Sobrecamisa beige pana Theo  119,90 €   \n",
       "3                Chaqueta azul Carmy  149,90 €   \n",
       "4              Chaqueta marrón Carmy  149,90 €   \n",
       "5  Chaqueta dark clean denim Odonata  129,90 €   \n",
       "\n",
       "                                            material  \\\n",
       "0  Exterior: 100% Poliéster Reciclado Forro: 100%...   \n",
       "1                              100% Algodón Orgánico   \n",
       "2                              100% Algodón Orgánico   \n",
       "3                  55% Cáñamo + 45% Algodón Orgánico   \n",
       "4                  55% Cáñamo + 45% Algodón Orgánico   \n",
       "5                 99% Algodón Orgánico + 1% Elastano   \n",
       "\n",
       "                                               envio              tallas  \n",
       "0  Entrega en 1-2 días hábiles. Envío gratuito a ...  [S, M, L, XL, XXL]  \n",
       "1  Entrega en 1-2 días hábiles. Envío gratuito a ...  [S, M, L, XL, XXL]  \n",
       "2  Entrega en 1-2 días hábiles. Envío gratuito a ...  [S, M, L, XL, XXL]  \n",
       "3  Entrega en 1-2 días hábiles. Envío gratuito a ...  [S, M, L, XL, XXL]  \n",
       "4  Entrega en 1-2 días hábiles. Envío gratuito a ...  [S, M, L, XL, XXL]  \n",
       "5  Entrega en 1-2 días hábiles. Envío gratuito a ...  [S, M, L, XL, XXL]  "
      ]
     },
     "execution_count": 132,
     "metadata": {},
     "output_type": "execute_result"
    }
   ],
   "source": [
    "df"
   ]
  },
  {
   "cell_type": "code",
   "execution_count": 134,
   "metadata": {},
   "outputs": [],
   "source": [
    "df[\"precio\"] = df[\"precio\"].str.strip(\" €\").str.replace(\",\",\".\").astype(float)"
   ]
  },
  {
   "cell_type": "code",
   "execution_count": 136,
   "metadata": {},
   "outputs": [],
   "source": [
    "df = df.rename(columns={\"precio\":\"precio (€)\"})"
   ]
  },
  {
   "cell_type": "code",
   "execution_count": null,
   "metadata": {},
   "outputs": [],
   "source": [
    "df.to_csv(\"../datos/04_productos_thinkingMu.csv\")"
   ]
  },
  {
   "cell_type": "markdown",
   "metadata": {},
   "source": [
    "# Sepiia"
   ]
  },
  {
   "cell_type": "code",
   "execution_count": 151,
   "metadata": {},
   "outputs": [
    {
     "data": {
      "text/html": [
       "<div>\n",
       "<style scoped>\n",
       "    .dataframe tbody tr th:only-of-type {\n",
       "        vertical-align: middle;\n",
       "    }\n",
       "\n",
       "    .dataframe tbody tr th {\n",
       "        vertical-align: top;\n",
       "    }\n",
       "\n",
       "    .dataframe thead th {\n",
       "        text-align: right;\n",
       "    }\n",
       "</style>\n",
       "<table border=\"1\" class=\"dataframe\">\n",
       "  <thead>\n",
       "    <tr style=\"text-align: right;\">\n",
       "      <th></th>\n",
       "      <th>nombre</th>\n",
       "      <th>precio</th>\n",
       "      <th>descripción</th>\n",
       "      <th>entregas</th>\n",
       "    </tr>\n",
       "  </thead>\n",
       "  <tbody>\n",
       "    <tr>\n",
       "      <th>0</th>\n",
       "      <td>AIR COAT AZUL MARINO</td>\n",
       "      <td>299,00€</td>\n",
       "      <td>Fibras innovadoras de poliéster reciclado anti...</td>\n",
       "      <td>→ Entrega en 24-48 horas</td>\n",
       "    </tr>\n",
       "  </tbody>\n",
       "</table>\n",
       "</div>"
      ],
      "text/plain": [
       "                 nombre   precio  \\\n",
       "0  AIR COAT AZUL MARINO  299,00€   \n",
       "\n",
       "                                         descripción                  entregas  \n",
       "0  Fibras innovadoras de poliéster reciclado anti...  → Entrega en 24-48 horas  "
      ]
     },
     "execution_count": 151,
     "metadata": {},
     "output_type": "execute_result"
    }
   ],
   "source": [
    "df = pd.read_csv(\"../datos/05_producto_sepia.csv\",index_col=0)\n",
    "df"
   ]
  },
  {
   "cell_type": "code",
   "execution_count": 152,
   "metadata": {},
   "outputs": [
    {
     "data": {
      "text/html": [
       "<div>\n",
       "<style scoped>\n",
       "    .dataframe tbody tr th:only-of-type {\n",
       "        vertical-align: middle;\n",
       "    }\n",
       "\n",
       "    .dataframe tbody tr th {\n",
       "        vertical-align: top;\n",
       "    }\n",
       "\n",
       "    .dataframe thead th {\n",
       "        text-align: right;\n",
       "    }\n",
       "</style>\n",
       "<table border=\"1\" class=\"dataframe\">\n",
       "  <thead>\n",
       "    <tr style=\"text-align: right;\">\n",
       "      <th></th>\n",
       "      <th>nombre</th>\n",
       "      <th>precio (€)</th>\n",
       "      <th>descripción</th>\n",
       "      <th>entregas</th>\n",
       "    </tr>\n",
       "  </thead>\n",
       "  <tbody>\n",
       "    <tr>\n",
       "      <th>0</th>\n",
       "      <td>AIR COAT AZUL MARINO</td>\n",
       "      <td>299.0</td>\n",
       "      <td>Fibras innovadoras de poliéster reciclado anti...</td>\n",
       "      <td>Entrega en 24-48 horas</td>\n",
       "    </tr>\n",
       "  </tbody>\n",
       "</table>\n",
       "</div>"
      ],
      "text/plain": [
       "                 nombre  precio (€)  \\\n",
       "0  AIR COAT AZUL MARINO       299.0   \n",
       "\n",
       "                                         descripción                entregas  \n",
       "0  Fibras innovadoras de poliéster reciclado anti...  Entrega en 24-48 horas  "
      ]
     },
     "execution_count": 152,
     "metadata": {},
     "output_type": "execute_result"
    }
   ],
   "source": [
    "df = df.rename(columns={\"precio\":\"precio (€)\"})\n",
    "df[\"precio (€)\"] = df[\"precio (€)\"].str.strip(\"€\").str.replace(\",\",\".\").astype(float)\n",
    "df[\"entregas\"] = \"Entrega en 24-48 horas\"\n",
    "df"
   ]
  },
  {
   "cell_type": "code",
   "execution_count": 155,
   "metadata": {},
   "outputs": [],
   "source": [
    "df[\"tallas\"] = [[\"S\",\"M\",\"L\",\"XL\",\"XXL\"]]"
   ]
  },
  {
   "cell_type": "code",
   "execution_count": 158,
   "metadata": {},
   "outputs": [],
   "source": [
    "df.to_csv(\"../datos/07_datos_sepiia_limpios.csv\")"
   ]
  }
 ],
 "metadata": {
  "kernelspec": {
   "display_name": "Python 3",
   "language": "python",
   "name": "python3"
  },
  "language_info": {
   "codemirror_mode": {
    "name": "ipython",
    "version": 3
   },
   "file_extension": ".py",
   "mimetype": "text/x-python",
   "name": "python",
   "nbconvert_exporter": "python",
   "pygments_lexer": "ipython3",
   "version": "3.11.9"
  }
 },
 "nbformat": 4,
 "nbformat_minor": 2
}
