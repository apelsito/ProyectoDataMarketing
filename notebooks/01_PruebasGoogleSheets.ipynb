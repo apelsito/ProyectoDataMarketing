{
 "cells": [
  {
   "cell_type": "markdown",
   "metadata": {},
   "source": [
    "# Pruebas Google Api\n",
    "- pip install gspread gspread-dataframe oauth2client"
   ]
  },
  {
   "cell_type": "code",
   "execution_count": 4,
   "metadata": {},
   "outputs": [],
   "source": [
    "import gspread\n",
    "from gspread_dataframe import set_with_dataframe\n",
    "from oauth2client.service_account import ServiceAccountCredentials\n",
    "import pandas as pd\n",
    "\n",
    "# Carga las credenciales\n",
    "scope = [\"https://spreadsheets.google.com/feeds\", \"https://www.googleapis.com/auth/spreadsheets\", \"https://www.googleapis.com/auth/drive\"]\n",
    "creds = ServiceAccountCredentials.from_json_keyfile_name('../datos/01_JSON/proyecto-hackiodatamarketing-50c293de9984.json', scope)\n",
    "client = gspread.authorize(creds)\n",
    "\n",
    "# Crea o abre la hoja de cálculo\n",
    "#sheet = client.open(\"ProyectoDataMarketing\").sheet1  # Usa .sheet1 para la primera pestaña\n",
    "sheet = client.open_by_key(\"1OeKT6J7Pr4yu71gvDpF3P_Z47-OWNVeJayCUjRLFais\").sheet1\n",
    "# Exporta el DataFrame\n",
    "df = pd.DataFrame({ 'col1': [1, 2, 3], 'col2': [4, 5, 6] })  # Ejemplo de DataFrame\n",
    "set_with_dataframe(sheet, df)\n"
   ]
  }
 ],
 "metadata": {
  "kernelspec": {
   "display_name": "Python 3",
   "language": "python",
   "name": "python3"
  },
  "language_info": {
   "codemirror_mode": {
    "name": "ipython",
    "version": 3
   },
   "file_extension": ".py",
   "mimetype": "text/x-python",
   "name": "python",
   "nbconvert_exporter": "python",
   "pygments_lexer": "ipython3",
   "version": "3.11.9"
  }
 },
 "nbformat": 4,
 "nbformat_minor": 2
}
